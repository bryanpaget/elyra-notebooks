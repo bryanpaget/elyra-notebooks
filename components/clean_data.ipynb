{
 "cells": [
  {
   "cell_type": "code",
   "execution_count": 1,
   "id": "d78ccc49-6300-43df-a6bf-faf9115c52e2",
   "metadata": {
    "execution": {
     "iopub.execute_input": "2024-07-31T20:42:39.487880Z",
     "iopub.status.busy": "2024-07-31T20:42:39.487086Z",
     "iopub.status.idle": "2024-07-31T20:42:39.991660Z",
     "shell.execute_reply": "2024-07-31T20:42:39.993230Z"
    },
    "papermill": {
     "duration": 0.518382,
     "end_time": "2024-07-31T20:42:39.993522",
     "exception": false,
     "start_time": "2024-07-31T20:42:39.475140",
     "status": "completed"
    },
    "tags": []
   },
   "outputs": [
    {
     "name": "stdout",
     "output_type": "stream",
     "text": [
      "Data cleaned and saved as cleaned_data.csv\n"
     ]
    }
   ],
   "source": [
    "import pandas as pd\n",
    "\n",
    "# Load the downloaded data\n",
    "data = pd.read_csv('downloaded_data.csv')\n",
    "\n",
    "# Perform data cleaning (example: drop rows with missing values)\n",
    "cleaned_data = data.dropna()\n",
    "\n",
    "# Save the cleaned data to a new CSV file\n",
    "cleaned_data.to_csv('cleaned_data.csv', index=False)\n",
    "\n",
    "print(\"Data cleaned and saved as cleaned_data.csv\")"
   ]
  }
 ],
 "metadata": {
  "kernelspec": {
   "display_name": "Python 3 (ipykernel)",
   "language": "python",
   "name": "python3"
  },
  "language_info": {
   "codemirror_mode": {
    "name": "ipython",
    "version": 3
   },
   "file_extension": ".py",
   "mimetype": "text/x-python",
   "name": "python",
   "nbconvert_exporter": "python",
   "pygments_lexer": "ipython3",
   "version": "3.9.7"
  },
  "papermill": {
   "default_parameters": {},
   "duration": 2.444548,
   "end_time": "2024-07-31T20:42:40.422769",
   "environment_variables": {},
   "exception": null,
   "input_path": "/home/jovyan/work/elyra-notebooks/components/clean_data.ipynb",
   "output_path": "/home/jovyan/work/elyra-notebooks/components/clean_data.ipynb",
   "parameters": {},
   "start_time": "2024-07-31T20:42:37.978221",
   "version": "2.4.0"
  }
 },
 "nbformat": 4,
 "nbformat_minor": 5
}