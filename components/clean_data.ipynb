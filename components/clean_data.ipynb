{
 "cells": [
  {
   "cell_type": "code",
   "execution_count": null,
   "id": "d78ccc49-6300-43df-a6bf-faf9115c52e2",
   "metadata": {},
   "outputs": [],
   "source": [
    "import pandas as pd\n",
    "\n",
    "# Load the downloaded data\n",
    "data = pd.read_csv('downloaded_data.csv')\n",
    "\n",
    "# Perform data cleaning (example: drop rows with missing values)\n",
    "cleaned_data = data.dropna()\n",
    "\n",
    "# Save the cleaned data to a new CSV file\n",
    "cleaned_data.to_csv('cleaned_data.csv', index=False)\n",
    "\n",
    "print(\"Data cleaned and saved as cleaned_data.csv\")"
   ]
  }
 ],
 "metadata": {
  "kernelspec": {
   "display_name": "Python 3 (ipykernel)",
   "language": "python",
   "name": "python3"
  },
  "language_info": {
   "codemirror_mode": {
    "name": "ipython",
    "version": 3
   },
   "file_extension": ".py",
   "mimetype": "text/x-python",
   "name": "python",
   "nbconvert_exporter": "python",
   "pygments_lexer": "ipython3",
   "version": "3.9.7"
  }
 },
 "nbformat": 4,
 "nbformat_minor": 5
}
