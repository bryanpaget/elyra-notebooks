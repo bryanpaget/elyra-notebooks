{
 "cells": [
  {
   "cell_type": "code",
   "execution_count": 1,
   "id": "bbfee9e2-b464-4fea-8df8-2a398dc911a1",
   "metadata": {
    "execution": {
     "iopub.execute_input": "2024-07-31T20:42:36.584002Z",
     "iopub.status.busy": "2024-07-31T20:42:36.583216Z",
     "iopub.status.idle": "2024-07-31T20:42:37.332612Z",
     "shell.execute_reply": "2024-07-31T20:42:37.331865Z"
    },
    "papermill": {
     "duration": 0.764131,
     "end_time": "2024-07-31T20:42:37.332821",
     "exception": false,
     "start_time": "2024-07-31T20:42:36.568690",
     "status": "completed"
    },
    "tags": []
   },
   "outputs": [
    {
     "name": "stdout",
     "output_type": "stream",
     "text": [
      "Data downloaded and saved as downloaded_data.csv\n"
     ]
    }
   ],
   "source": [
    "import pandas as pd\n",
    "\n",
    "# URL of the CSV file\n",
    "url = \"https://raw.githubusercontent.com/bryanpaget/html/main/pokemon.csv\"\n",
    "\n",
    "# Download the CSV file\n",
    "data = pd.read_csv(url)\n",
    "\n",
    "# Save the data to a CSV file\n",
    "data.to_csv('downloaded_data.csv', index=False)\n",
    "\n",
    "print(\"Data downloaded and saved as downloaded_data.csv\")"
   ]
  },
  {
   "cell_type": "code",
   "execution_count": null,
   "id": "217200dd-ae71-467a-ba1c-9517331efce3",
   "metadata": {
    "papermill": {
     "duration": 0.001826,
     "end_time": "2024-07-31T20:42:37.337937",
     "exception": false,
     "start_time": "2024-07-31T20:42:37.336111",
     "status": "completed"
    },
    "tags": []
   },
   "outputs": [],
   "source": []
  }
 ],
 "metadata": {
  "kernelspec": {
   "display_name": "Python 3 (ipykernel)",
   "language": "python",
   "name": "python3"
  },
  "language_info": {
   "codemirror_mode": {
    "name": "ipython",
    "version": 3
   },
   "file_extension": ".py",
   "mimetype": "text/x-python",
   "name": "python",
   "nbconvert_exporter": "python",
   "pygments_lexer": "ipython3",
   "version": "3.9.7"
  },
  "papermill": {
   "default_parameters": {},
   "duration": 2.75859,
   "end_time": "2024-07-31T20:42:37.965193",
   "environment_variables": {},
   "exception": null,
   "input_path": "/home/jovyan/work/elyra-notebooks/components/download_data.ipynb",
   "output_path": "/home/jovyan/work/elyra-notebooks/components/download_data.ipynb",
   "parameters": {},
   "start_time": "2024-07-31T20:42:35.206603",
   "version": "2.4.0"
  }
 },
 "nbformat": 4,
 "nbformat_minor": 5
}