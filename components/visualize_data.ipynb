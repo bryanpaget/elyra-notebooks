{
 "cells": [
  {
   "cell_type": "code",
   "execution_count": null,
   "id": "5882bb43-09eb-48bc-9c09-44b42d602c9f",
   "metadata": {},
   "outputs": [],
   "source": [
    "import pandas as pd\n",
    "import matplotlib.pyplot as plt\n",
    "\n",
    "# Load the cleaned data\n",
    "data = pd.read_csv('cleaned_data.csv')\n",
    "\n",
    "# Example visualization: Distribution of Pokemon types\n",
    "plt.figure(figsize=(10, 6))\n",
    "data['Type 1'].value_counts().plot(kind='bar')\n",
    "plt.title('Distribution of Pokemon Types')\n",
    "plt.xlabel('Type')\n",
    "plt.ylabel('Count')\n",
    "plt.savefig('pokemon_types_distribution.png')\n",
    "plt.show()\n",
    "\n",
    "# Example visualization: Scatter plot of Attack vs Defense\n",
    "plt.figure(figsize=(10, 6))\n",
    "plt.scatter(data['Attack'], data['Defense'])\n",
    "plt.title('Attack vs Defense')\n",
    "plt.xlabel('Attack')\n",
    "plt.ylabel('Defense')\n",
    "plt.savefig('attack_vs_defense.png')\n",
    "plt.show()\n",
    "\n",
    "print(\"Visualizations saved as pokemon_types_distribution.png and attack_vs_defense.png\")"
   ]
  }
 ],
 "metadata": {
  "kernelspec": {
   "display_name": "Python 3 (ipykernel)",
   "language": "python",
   "name": "python3"
  },
  "language_info": {
   "codemirror_mode": {
    "name": "ipython",
    "version": 3
   },
   "file_extension": ".py",
   "mimetype": "text/x-python",
   "name": "python",
   "nbconvert_exporter": "python",
   "pygments_lexer": "ipython3",
   "version": "3.9.7"
  }
 },
 "nbformat": 4,
 "nbformat_minor": 5
}
